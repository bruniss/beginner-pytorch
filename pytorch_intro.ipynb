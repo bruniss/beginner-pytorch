{
 "cells": [
  {
   "cell_type": "code",
   "execution_count": 9,
   "id": "ecdccf2b-b7d1-486e-8643-fb55acf6a38b",
   "metadata": {},
   "outputs": [],
   "source": [
    "import os\n",
    "from IPython.display import Image, display"
   ]
  },
  {
   "cell_type": "markdown",
   "id": "dba2151d-693e-495b-b461-d65abb9c9f2d",
   "metadata": {},
   "source": [
    "<img src=\"images/tensors_as_sheet.png\" alt=\"Image\" width=\"400\">"
   ]
  },
  {
   "cell_type": "markdown",
   "id": "3d41b324-2d58-40e9-85d5-87205360bd6f",
   "metadata": {},
   "source": [
    "# Why use Machine Learning?\n",
    "\n",
    "To understand why we might want to use machine learning to solve a given problem, it's important to first understand how this problem would be solved by traditional programming. Take for example, a program designed to look at an image, and output simply whether the photo contains a bird or does not.\n",
    "\n",
    "Finding feature descriptors for even a single bird would prove difficult if not impossible. For a blue jay the following might be a start:\n",
    "\n",
    "- Blue \n",
    "- Feathered\n",
    "- Beak\n",
    "\n",
    "So first you'd have to identify a discrete shape that is blue. Then you'd have to craft something to detect blue jay feathers, and finally something to detect beaks. So lets imagine you've somehow crafted a perfectly reliable blue-jay detection function that when passed a picture of a bluejay can say that it is indeed a bluejay 100% of the time. Consider these problems:\n",
    "\n",
    "- Some other birds are also blue\n",
    "- Blue-jay feathers don't look like goose feathers\n",
    "- If the image is distorted or the lighting is wrong, the parameters for blue and feather-like detectors break\n",
    "- You have to do this all over again for every single bird that exists\n",
    "\n",
    "You can see how the amount of code required to describe and classify whether a photo contains a bird or not could quickly get out of hand. In this case almost certainly impossible to code in a way that works with most images reliably.\n",
    "\n",
    "<img src=\"images/bird_classifier.png\" alt=\"bird\" width=\"200\" height=\"500\">\n",
    "\n",
    "The fundamental difference between machine learning and traditional programming is the following:\n",
    "\n",
    "_In traditional programming you take the input data, and craft a bunch of different rules or operations that will create the desired output_\n",
    "\n",
    "_In machine learning, you take the input data, and the desired output, and the machine learning model creates the rules for you_"
   ]
  },
  {
   "cell_type": "markdown",
   "id": "e9f14417-5b4e-4bc4-86ea-89517cc03135",
   "metadata": {},
   "source": [
    "# What is machine learning good at? What is it currently used for?"
   ]
  },
  {
   "cell_type": "markdown",
   "id": "0856919d-3df2-4596-b241-858b9ccff0dd",
   "metadata": {},
   "source": [
    "Machine learning excels at problems that have lots of difficult to define rules, think:\n",
    "\n",
    "- Self-Driving vehicles (how many thousands of rules would one have to program to solve this task?)\n",
    "- Environments that are very different in each scenario (like the bird descriptor above)\n",
    "- Problems with huge datasets\n",
    "\n",
    "Currently, deep learning is used in nearly every industry you interact with, just maybe not in ways you've ever considered to be \"AI\" or deep learning. Here are a few examples:\n",
    "\n",
    "- Recommendation algorithms (netflix, youtube, etc)\n",
    "- Language translation (google translate)\n",
    "- Sports broadcasting (player tracking)\n",
    "- Natural language\n",
    "  - Chat GPT\n",
    "  - Spam filters\n",
    "  - Voice activation (\"hey siri\" , \"hey alexa\")\n",
    "- Stock trading\n",
    "- Sports betting"
   ]
  },
  {
   "cell_type": "markdown",
   "id": "c3c92293-1c55-454f-9423-23023edf1556",
   "metadata": {},
   "source": [
    "# Some quick definitions\n",
    "\n",
    "These are all examples of machine learning architectures you may have heard of. \n",
    "\n",
    "### Traditional (Shallow)\n",
    "- Examples:\n",
    "  - Random Forest\n",
    "  - Gradient Boosting Machine (XGBoost)\n",
    "  - Bayes\n",
    "  - Nearest Neighbor\n",
    "  - Support Vector Machine\n",
    "- Good for structured data\n",
    "  - Spreadsheets\n",
    "\n",
    "### Deep Learning\n",
    "- Examples:\n",
    "  - Neural Networks (NN)\n",
    "  - Fully Connected Neural Networks (FCCN)\n",
    "  - Convolutional Neural Network (CNN)\n",
    "  - Recurrent Neural Network (RNN)\n",
    "  - Feature Pyramid Network (FPN)\n",
    "  - Transformers\n",
    "- Good for unstructured data\n",
    "  - Language, speech, images, audio\n"
   ]
  },
  {
   "cell_type": "markdown",
   "id": "8cb6ceaf-5ab9-4946-a680-f69ba82ed542",
   "metadata": {},
   "source": [
    "# What is a neural network? \n",
    "\n",
    "A neural network is a type of program made up of layers of simple units called neurons that are connected together. Each neuron takes in information, processes it, and passes it on to the next layer. By adjusting the connections between neurons, a neural network can learn to recognize patterns in data, like identifying objects in pictures or understanding human speech.\n",
    "\n",
    "### How do neural networks function?\n",
    "\n",
    "- **Inputs and Tensors**:\n",
    "  - A neural network takes inputs, which are numerical data, and organizes them into a matrix (or tensor). Tensors are generalized matrices that can be in multiple dimensions.\n",
    "\n",
    "- **Mathematical Operations and Features**:\n",
    "  - These input tensors undergo a series of mathematical operations, such as matrix multiplications, additions, and the application of activation functions.\n",
    "  - Each layer is usually a combination of linear (straight lines) and non-linear functions.\n",
    "  - Through these operations, the network extracts patterns from the data. These patterns are often referred to as \"features.\"\n",
    "    - Also can be called embedding, feature vectors, weights, etc (not all exactly the same but all terms are used)\n",
    "\n",
    "- **Weights and Representations**:\n",
    "  - The neural network learns these patterns by adjusting \"weights,\" which are the parameters within the model. Each connection between neurons in different layers of the network has an associated weight.\n",
    "  - As the input data passes through the network, these weights are applied to transform the data at each layer, gradually building a more complex representation of the input data.\n",
    "\n",
    "- **Loss Function and Optimization**:\n",
    "  - The network's performance is measured using a loss function, which quantifies the difference between the network's predictions and the actual target values.\n",
    "  - During training, an optimization algorithm (such as gradient descent) adjusts the weights to minimize the loss function. The goal is to find the optimal set of weights that result in the lowest possible loss, indicating that the model is making accurate predictions.\n",
    "\n",
    "<img src=\"images/nn_diagram.png\" alt=\"nn\" width=\"550\">"
   ]
  },
  {
   "cell_type": "markdown",
   "id": "4060443f-ec5d-46d1-bf69-794fc9aa1145",
   "metadata": {},
   "source": [
    "# What is PyTorch and why should we use it?\n",
    "\n",
    "- Pytorch is the most popular research deep learning framework \n",
    "\n",
    "- Leverages GPUs to run fast deep learning code with python \n",
    "\n",
    "- Access to many prebuilt deep learning models \n",
    "\n",
    "- Manages the entire stack from preprocessing, model creation, training, and deployment \n",
    "\n",
    "- Was originally designed by Meta, but is now used by tesla, microsoft, openai (pretty much everyone)\n",
    "\n",
    "## Why do we do calculations on GPUs? \n",
    "\n",
    "Originally designed for rendering graphics in video games, gpus have thousands of processing cores that are specifically designed to run mathematical calculations extremely quickly. This ability to do math quickly is exactly what we need to quickly train and infer deep learning models "
   ]
  },
  {
   "cell_type": "markdown",
   "id": "8f31640f-f3e4-432a-b6a1-cda46eac3bd1",
   "metadata": {},
   "source": [
    "# A Very brief introduction to vectors and tensors\n",
    "\n",
    "### What is a vector?  \n",
    "\n",
    "A vector is a mathematical object that has both magnitude (length) and direction. \n",
    "\n",
    "Vectors are composed of basis vectors. Basis vectors have a length of 1 in whatever unit of measurement your vector is in (e.g., millimeters, miles per hour) and point in the standard directions of the vector space (e.g., along the x, y, and z axes in 3D space). \n",
    "\n",
    "A vector component is measured by projecting the vector onto the axes. For example, to find the X component, imagine shining a flashlight along the X axis. The shadow of the vector on this axis is the X component. The Y component is the number of basis vectors needed to reach the tip of the vector along the Y axis. \n",
    "\n",
    "In other words, the components are the amounts of the basis vectors required to span from the vector's start to its end along each axis, representing its \"width\" and \"height.\" \n",
    "\n",
    "Once you have the components of a vector, you can represent the vector solely using these components. For instance, a vector v in 2D space with components v_x and v_y can be written as: \n",
    "\n",
    "v = v_x * i + v_y * j \n",
    "\n",
    "Here, i and j are the unit vectors along the x and y axes, respectively. \n",
    "\n",
    " \n",
    "\n",
    "### What is a tensor?  \n",
    "\n",
    "Tensors are generalized mathematical objects that can represent vectors, scalars, and more complex structures. \n",
    "\n",
    "| Name   | What is it?                                                                 | Number of dimensions                                                     | Lower or upper (usually/example) |\n",
    "|--------|-----------------------------------------------------------------------------|--------------------------------------------------------------------------|----------------------------------|\n",
    "| scalar | a single number                                                             | 0                                                                        | Lower (a)                        |\n",
    "| vector | a number with direction (e.g., wind speed with direction) but can also have many other numbers | 1                                                                        | Lower (y)                        |\n",
    "| matrix | a 2-dimensional array of numbers                                            | 2                                                                        | Upper (Q)                        |\n",
    "| tensor | an n-dimensional array of numbers                                           | can be any number, a 0-dimension tensor is a scalar, a 1-dimension tensor is a vector | Upper (X)                        |\n",
    "\n",
    "\n",
    "### What makes tensors so powerful? \n",
    "\n",
    "Different observers might use different ways (basis vectors and components) to describe the same event, but when these ways are combined, everyone agrees on the overall description. This agreement happens because the basis vectors and components change in opposite ways between reference frames, which means the final combined representation remains the same for all observers, regardless of their point of view. \n",
    "\n",
    "<table>\n",
    "    <tr>\n",
    "        <td><img src=\"images/nn_diagram.png\" alt=\"nn\" width=\"550\"></td>\n",
    "        <td><img src=\"images/tensor_examples.png\" alt=\"nn\" width=\"550\"></td>\n",
    "        <td><img src=\"images/vector_components.png\" alt=\"nn\" width=\"550\"></td>\n",
    "    </tr>\n",
    "</table>\n",
    "\n"
   ]
  },
  {
   "cell_type": "markdown",
   "id": "09022cdd-4b78-46e4-9693-33492184552c",
   "metadata": {},
   "source": [
    "## Most importantly, tensors can represent _anything_ \n",
    "\n",
    "For example, this tensor could be the sales numbers for a steak and almond butter store."
   ]
  },
  {
   "cell_type": "code",
   "execution_count": 19,
   "id": "3aa39daf-cfe5-4d75-bd55-6d66bd43f0fa",
   "metadata": {},
   "outputs": [
    {
     "name": "stdout",
     "output_type": "stream",
     "text": [
      "tensor([[[1, 2, 3],\n",
      "         [3, 6, 9],\n",
      "         [2, 4, 5]]])\n",
      "torch.Size([1, 3, 3])\n",
      "3\n"
     ]
    }
   ],
   "source": [
    "data = torch.tensor([[[1, 2, 3],\n",
    "                      [3, 6, 9],\n",
    "                      [2, 4, 5]]])\n",
    "print(data)\n",
    "print(data.shape)\n",
    "print(data.ndim)"
   ]
  },
  {
   "cell_type": "markdown",
   "id": "467b48ae-3536-4ed4-98d9-d2612cf40c15",
   "metadata": {},
   "source": [
    "<img src=\"images/tensor_sheet.png\" alt=\"nn\" width=\"550\">"
   ]
  },
  {
   "cell_type": "markdown",
   "id": "53023255-3dc5-4013-a2a4-8ece9af4b724",
   "metadata": {},
   "source": [
    "This tensor could represent an RGB image"
   ]
  },
  {
   "cell_type": "code",
   "execution_count": 20,
   "id": "e988f247-84d0-45d8-b1a7-d4416e388363",
   "metadata": {},
   "outputs": [
    {
     "name": "stdout",
     "output_type": "stream",
     "text": [
      "tensor([[[0.2432, 0.7010, 0.7721,  ..., 0.2164, 0.6718, 0.1104],\n",
      "         [0.3590, 0.1136, 0.6191,  ..., 0.3251, 0.9227, 0.7909],\n",
      "         [0.9908, 0.5999, 0.8407,  ..., 0.0043, 0.3359, 0.9595],\n",
      "         ...,\n",
      "         [0.2602, 0.8757, 0.0726,  ..., 0.6321, 0.2288, 0.7053],\n",
      "         [0.0192, 0.9383, 0.8483,  ..., 0.6931, 0.0705, 0.4954],\n",
      "         [0.7864, 0.0267, 0.7485,  ..., 0.6296, 0.4062, 0.9518]],\n",
      "\n",
      "        [[0.2406, 0.5715, 0.8695,  ..., 0.5303, 0.6114, 0.5407],\n",
      "         [0.9878, 0.0021, 0.0584,  ..., 0.3154, 0.8661, 0.7833],\n",
      "         [0.3563, 0.2200, 0.3609,  ..., 0.9002, 0.4999, 0.9957],\n",
      "         ...,\n",
      "         [0.0317, 0.1195, 0.1462,  ..., 0.3885, 0.0491, 0.9648],\n",
      "         [0.1645, 0.2449, 0.9733,  ..., 0.5273, 0.4287, 0.5294],\n",
      "         [0.4534, 0.3744, 0.7875,  ..., 0.6244, 0.4987, 0.9975]],\n",
      "\n",
      "        [[0.0131, 0.8527, 0.5348,  ..., 0.3034, 0.4661, 0.0858],\n",
      "         [0.4131, 0.1749, 0.3724,  ..., 0.4518, 0.4753, 0.3724],\n",
      "         [0.7175, 0.4745, 0.8599,  ..., 0.8641, 0.8318, 0.1138],\n",
      "         ...,\n",
      "         [0.7994, 0.0176, 0.5381,  ..., 0.0117, 0.2281, 0.1198],\n",
      "         [0.6120, 0.9408, 0.9678,  ..., 0.7928, 0.0736, 0.6712],\n",
      "         [0.7746, 0.6783, 0.0505,  ..., 0.0995, 0.1519, 0.9814]]])\n",
      "torch.Size([3, 224, 224])\n",
      "3\n"
     ]
    }
   ],
   "source": [
    "image = torch.rand(3, 224, 224)\n",
    "print(image)\n",
    "print(image.shape)\n",
    "print(image.ndim)"
   ]
  },
  {
   "cell_type": "markdown",
   "id": "590fff7f-c5a1-4ecb-9e24-39d3f41b4bef",
   "metadata": {},
   "source": [
    "<img src=\"images/image_as_tensor.png\" alt=\"nn\" width=\"550\">"
   ]
  },
  {
   "cell_type": "markdown",
   "id": "4a95f3d1-9291-4732-b71c-60dde6587e57",
   "metadata": {},
   "source": [
    "# Why use random tensors ? ? \n",
    " \n",
    "Most machine learning models learn by starting with the weights initialized with random tensors. The model looks at the data, compares the loss, updates the tensors, and looks at the data again.  "
   ]
  },
  {
   "cell_type": "code",
   "execution_count": null,
   "id": "1614c277-820f-49fe-aa1c-b2fec9f92525",
   "metadata": {},
   "outputs": [],
   "source": []
  }
 ],
 "metadata": {
  "kernelspec": {
   "display_name": "Python 3 (ipykernel)",
   "language": "python",
   "name": "python3"
  },
  "language_info": {
   "codemirror_mode": {
    "name": "ipython",
    "version": 3
   },
   "file_extension": ".py",
   "mimetype": "text/x-python",
   "name": "python",
   "nbconvert_exporter": "python",
   "pygments_lexer": "ipython3",
   "version": "3.12.4"
  }
 },
 "nbformat": 4,
 "nbformat_minor": 5
}
